{
 "cells": [
  {
   "cell_type": "markdown",
   "id": "3bee85bd-ed66-4b10-a055-670c6cb373d4",
   "metadata": {
    "tags": []
   },
   "source": [
    "# Data Science Tools and Ecosystem"
   ]
  },
  {
   "cell_type": "markdown",
   "id": "e47d5d6b-21b5-4a9e-b791-4157c8e7d819",
   "metadata": {},
   "source": [
    "In this notebook, Data Science Tools and Ecosystem are summarized."
   ]
  },
  {
   "cell_type": "markdown",
   "id": "572a1c05-55b4-41d3-98c4-418fbf0a3258",
   "metadata": {},
   "source": [
    "**Objectives:** \n",
    "* Some of the popular languages that Data Scientists use\n",
    "* Some of the commonly used libraries used by Data Scientists\n",
    "* Data Science Tools"
   ]
  },
  {
   "cell_type": "markdown",
   "id": "19f88ef3-bcaa-4472-9214-a3931f860ca4",
   "metadata": {},
   "source": [
    "Some of the popular languages that Data Scientists use are: \n",
    "1. Python\n",
    "2. R\n",
    "3. SQL\n",
    "4. Julia\n",
    "5. Scala"
   ]
  },
  {
   "cell_type": "markdown",
   "id": "6ec5eefd-45a3-46ff-8cdb-9febdd74e553",
   "metadata": {
    "tags": []
   },
   "source": [
    "Some of the commonly used libraries used by Data Scientists include:\n",
    "- Pandas\n",
    "- Numpy\n",
    "- Scipy\n",
    "- Matplotlib\n",
    "- Scikit-learn \n",
    "    "
   ]
  },
  {
   "cell_type": "markdown",
   "id": "64201ffa-b0d2-4965-871e-680f5a6ebbbb",
   "metadata": {},
   "source": [
    "|Data Science Tools|\n",
    "|----|\n",
    "|R Studio|\n",
    "|Apache Spark|\n",
    "|Tensor Flow|\n"
   ]
  },
  {
   "cell_type": "markdown",
   "id": "71e04b35-e924-49dd-9c6b-b542bf94cbf6",
   "metadata": {},
   "source": [
    "### Below are a few examples of evaluating arithmetic expressions in Python:\n",
    "- Y+X=3\n",
    "- X/Y=2\n",
    "- X**Y=1\n",
    "\n"
   ]
  },
  {
   "cell_type": "raw",
   "id": "6d9fd020-3cee-4313-bdcd-880f5706198e",
   "metadata": {},
   "source": [
    "This a simple arithmetic expression to mutiply then add integers"
   ]
  },
  {
   "cell_type": "code",
   "execution_count": 7,
   "id": "85508feb-e5d4-4a18-b93e-30ff63b8f5f0",
   "metadata": {
    "tags": []
   },
   "outputs": [
    {
     "data": {
      "text/plain": [
       "17"
      ]
     },
     "execution_count": 7,
     "metadata": {},
     "output_type": "execute_result"
    }
   ],
   "source": [
    "(3*4)+5"
   ]
  },
  {
   "cell_type": "raw",
   "id": "21c35bc1-420d-4979-a907-f7ab07979f2e",
   "metadata": {
    "tags": []
   },
   "source": [
    "\n",
    "This will convert 200 minutes to hours by diving by 60"
   ]
  },
  {
   "cell_type": "code",
   "execution_count": 35,
   "id": "51fad0db-04e3-4147-92a7-562306210f1a",
   "metadata": {
    "tags": []
   },
   "outputs": [
    {
     "data": {
      "text/plain": [
       "3.3333333333333335"
      ]
     },
     "execution_count": 35,
     "metadata": {},
     "output_type": "execute_result"
    }
   ],
   "source": [
    "minutes = 200\n",
    "hours = minutes / 60\n",
    "hours"
   ]
  },
  {
   "cell_type": "markdown",
   "id": "ee85e1fc-c17d-4b55-a3d4-6cfe67d17206",
   "metadata": {},
   "source": [
    "## Author\n",
    "António Tiago Amaro Moutinho"
   ]
  },
  {
   "cell_type": "code",
   "execution_count": null,
   "id": "fb103f1b-df86-461d-962a-beb77afa77a5",
   "metadata": {},
   "outputs": [],
   "source": []
  }
 ],
 "metadata": {
  "kernelspec": {
   "display_name": "Python 3 (ipykernel)",
   "language": "python",
   "name": "python3"
  },
  "language_info": {
   "codemirror_mode": {
    "name": "ipython",
    "version": 3
   },
   "file_extension": ".py",
   "mimetype": "text/x-python",
   "name": "python",
   "nbconvert_exporter": "python",
   "pygments_lexer": "ipython3",
   "version": "3.11.4"
  }
 },
 "nbformat": 4,
 "nbformat_minor": 5
}
